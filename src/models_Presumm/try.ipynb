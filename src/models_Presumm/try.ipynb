{
 "cells": [
  {
   "cell_type": "code",
   "execution_count": 1,
   "metadata": {},
   "outputs": [
    {
     "ename": "ImportError",
     "evalue": "cannot import name 'BertConfig' from partially initialized module 'exBERT' (most likely due to a circular import) (/Users/camilleko/PreSumm/src/models/exBERT/__init__.py)",
     "output_type": "error",
     "traceback": [
      "\u001b[0;31m---------------------------------------------------------------------------\u001b[0m",
      "\u001b[0;31mImportError\u001b[0m                               Traceback (most recent call last)",
      "\u001b[1;32m/Users/camilleko/PreSumm/src/models/try.ipynb Cell 1\u001b[0m line \u001b[0;36m1\n\u001b[0;32m----> <a href='vscode-notebook-cell:/Users/camilleko/PreSumm/src/models/try.ipynb#W1sZmlsZQ%3D%3D?line=0'>1</a>\u001b[0m \u001b[39mfrom\u001b[39;00m \u001b[39mexBERT\u001b[39;00m \u001b[39mimport\u001b[39;00m BertModel, BertConfig\n",
      "File \u001b[0;32m~/PreSumm/src/models/exBERT/__init__.py:9\u001b[0m\n\u001b[1;32m      6\u001b[0m \u001b[39mfrom\u001b[39;00m \u001b[39mtokenization_transfo_xl\u001b[39;00m \u001b[39mimport\u001b[39;00m (TransfoXLTokenizer, TransfoXLCorpus)\n\u001b[1;32m      7\u001b[0m \u001b[39mfrom\u001b[39;00m \u001b[39mtokenization_gpt2\u001b[39;00m \u001b[39mimport\u001b[39;00m GPT2Tokenizer\n\u001b[0;32m----> 9\u001b[0m \u001b[39mfrom\u001b[39;00m \u001b[39mmodeling\u001b[39;00m \u001b[39mimport\u001b[39;00m (BertConfig, BertModel, BertForPreTraining,\n\u001b[1;32m     10\u001b[0m                        BertForMaskedLM, BertForNextSentencePrediction,\n\u001b[1;32m     11\u001b[0m                        BertForSequenceClassification, BertForMultipleChoice,\n\u001b[1;32m     12\u001b[0m                        BertForTokenClassification, BertForQuestionAnswering,\n\u001b[1;32m     13\u001b[0m                        load_tf_weights_in_bert)\n\u001b[1;32m     14\u001b[0m \u001b[39mfrom\u001b[39;00m \u001b[39mmodeling_openai\u001b[39;00m \u001b[39mimport\u001b[39;00m (OpenAIGPTConfig, OpenAIGPTModel,\n\u001b[1;32m     15\u001b[0m                               OpenAIGPTLMHeadModel, OpenAIGPTDoubleHeadsModel,\n\u001b[1;32m     16\u001b[0m                               load_tf_weights_in_openai_gpt)\n\u001b[1;32m     17\u001b[0m \u001b[39mfrom\u001b[39;00m \u001b[39mmodeling_transfo_xl\u001b[39;00m \u001b[39mimport\u001b[39;00m (TransfoXLConfig, TransfoXLModel, TransfoXLLMHeadModel,\n\u001b[1;32m     18\u001b[0m                                   load_tf_weights_in_transfo_xl)\n",
      "File \u001b[0;32m~/PreSumm/src/models/./exBERT/modeling.py:35\u001b[0m\n\u001b[1;32m     33\u001b[0m \u001b[39mfrom\u001b[39;00m \u001b[39mtorch\u001b[39;00m\u001b[39m.\u001b[39;00m\u001b[39mnn\u001b[39;00m \u001b[39mimport\u001b[39;00m CrossEntropyLoss\n\u001b[1;32m     34\u001b[0m \u001b[39mimport\u001b[39;00m \u001b[39mtorch\u001b[39;00m\u001b[39m.\u001b[39;00m\u001b[39mmps\u001b[39;00m \u001b[39mas\u001b[39;00m \u001b[39mmps\u001b[39;00m\n\u001b[0;32m---> 35\u001b[0m \u001b[39mfrom\u001b[39;00m \u001b[39mexBERT\u001b[39;00m \u001b[39mimport\u001b[39;00m BertConfig, BertModel\n\u001b[1;32m     37\u001b[0m \u001b[39mfrom\u001b[39;00m \u001b[39mfile_utils\u001b[39;00m \u001b[39mimport\u001b[39;00m cached_path\n\u001b[1;32m     39\u001b[0m logger \u001b[39m=\u001b[39m logging\u001b[39m.\u001b[39mgetLogger(\u001b[39m__name__\u001b[39m)\n",
      "\u001b[0;31mImportError\u001b[0m: cannot import name 'BertConfig' from partially initialized module 'exBERT' (most likely due to a circular import) (/Users/camilleko/PreSumm/src/models/exBERT/__init__.py)"
     ]
    },
    {
     "ename": "",
     "evalue": "",
     "output_type": "error",
     "traceback": [
      "\u001b[1;31mThe Kernel crashed while executing code in the the current cell or a previous cell. Please review the code in the cell(s) to identify a possible cause of the failure. Click <a href='https://aka.ms/vscodeJupyterKernelCrash'>here</a> for more info. View Jupyter <a href='command:jupyter.viewOutput'>log</a> for further details."
     ]
    }
   ],
   "source": [
    "from exBERT import BertModel, BertConfig"
   ]
  },
  {
   "cell_type": "code",
   "execution_count": null,
   "metadata": {},
   "outputs": [],
   "source": []
  }
 ],
 "metadata": {
  "kernelspec": {
   "display_name": "base",
   "language": "python",
   "name": "python3"
  },
  "language_info": {
   "codemirror_mode": {
    "name": "ipython",
    "version": 3
   },
   "file_extension": ".py",
   "mimetype": "text/x-python",
   "name": "python",
   "nbconvert_exporter": "python",
   "pygments_lexer": "ipython3",
   "version": "3.10.6"
  },
  "orig_nbformat": 4
 },
 "nbformat": 4,
 "nbformat_minor": 2
}
